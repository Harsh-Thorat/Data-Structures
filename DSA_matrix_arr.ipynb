{
  "nbformat": 4,
  "nbformat_minor": 0,
  "metadata": {
    "colab": {
      "provenance": [],
      "authorship_tag": "ABX9TyNr9taxCDptO80rak5RhS/0"
    },
    "kernelspec": {
      "name": "python3",
      "display_name": "Python 3"
    },
    "language_info": {
      "name": "python"
    }
  },
  "cells": [
    {
      "cell_type": "code",
      "execution_count": null,
      "metadata": {
        "id": "o-CLxMLBEqFd"
      },
      "outputs": [],
      "source": [
        "# 5 object array\n",
        "arr2 = [0]*5"
      ]
    },
    {
      "cell_type": "code",
      "source": [
        "print(arr2)"
      ],
      "metadata": {
        "colab": {
          "base_uri": "https://localhost:8080/"
        },
        "id": "uC36XqhSFzQq",
        "outputId": "9a706b7d-17f1-4da4-e3c0-995c9a35d8ba"
      },
      "execution_count": null,
      "outputs": [
        {
          "output_type": "stream",
          "name": "stdout",
          "text": [
            "[0, 0, 0, 0, 0]\n"
          ]
        }
      ]
    },
    {
      "cell_type": "code",
      "source": [
        "arr1 = [[1,2,3], [2,4,6], [3,5,7]]\n",
        "print(arr1)"
      ],
      "metadata": {
        "colab": {
          "base_uri": "https://localhost:8080/"
        },
        "id": "EkL_ASDUF4QF",
        "outputId": "ab068b1c-d26f-4ffd-9e5d-ef264b263659"
      },
      "execution_count": null,
      "outputs": [
        {
          "output_type": "stream",
          "name": "stdout",
          "text": [
            "[[1, 2, 3], [2, 4, 6], [3, 5, 7]]\n"
          ]
        }
      ]
    },
    {
      "cell_type": "code",
      "source": [
        "#finding a value x in a 3-D array\n",
        "# Function to search for an element in a 3-D list\n",
        "def search_in_matrix(arr, x):\n",
        "    rows, cols = len(arr), len(arr[1])\n",
        "\n",
        "    # Traverse each row and column\n",
        "    for i in range(rows):\n",
        "        for j in range(cols):\n",
        "            if arr[i][j] == x:\n",
        "                return True\n",
        "    return False\n",
        "\n",
        "# Driver code to test the function\n",
        "x = 12\n",
        "arr = [\n",
        "    [[0, 6, 8, 9, 11],\n",
        "    [20, 22, 28, 29, 31],\n",
        "    [36, 38, 50, 12, 63],\n",
        "    [64, 66, 100, 122, 128]],\n",
        "    [[0, 6, 8, 9, 11],\n",
        "    [20, 22, 28, 29, 31],\n",
        "    [36, 38, 50, 12, 63],\n",
        "    [64, 66, 100, 122, 128]],\n",
        "    [[0, 6, 8, 9, 11],\n",
        "    [20, 22, 28, 29, 31],\n",
        "    [36, 38, 50, 12, 63],\n",
        "    [64, 66, 100, 122, 128]]]\n",
        "\n",
        "\n",
        "if search_in_matrix(arr, x):\n",
        "    print(\"YES\")\n",
        "else:\n",
        "    print(\"NO\")"
      ],
      "metadata": {
        "colab": {
          "base_uri": "https://localhost:8080/"
        },
        "id": "aJ7GJ50zIv-I",
        "outputId": "a3c1e801-678b-4ac3-f43c-c86f19679534"
      },
      "execution_count": null,
      "outputs": [
        {
          "output_type": "stream",
          "name": "stdout",
          "text": [
            "NO\n"
          ]
        }
      ]
    },
    {
      "cell_type": "code",
      "source": [
        "# Function to search for an element in a 3-D list\n",
        "def search_in_3d_array(arr, x):\n",
        "    depth = len(arr)         # Number of 2D matrices\n",
        "    rows = len(arr[0])       # Number of rows in each 2D matrix\n",
        "    cols = len(arr[0][0])    # Number of columns in each row\n",
        "\n",
        "    # Traverse each depth, row, and column\n",
        "    for d in range(depth):\n",
        "        for i in range(rows):\n",
        "            for j in range(cols):\n",
        "                if arr[d][i][j] == x:\n",
        "                    return True\n",
        "    return False\n",
        "\n",
        "# Driver code to test the function\n",
        "x = 50\n",
        "arr = [\n",
        "    [\n",
        "        [0, 6, 8],\n",
        "        [9, 11, 13]\n",
        "    ],\n",
        "    [\n",
        "        [20, 22, 28],\n",
        "        [29, 31, 36]\n",
        "    ],\n",
        "    [\n",
        "        [38, 50, 61],\n",
        "        [63, 64, 66]\n",
        "    ]\n",
        "]\n",
        "\n",
        "if search_in_3d_array(arr, x):\n",
        "    print(arr, \"YES\")\n",
        "else:\n",
        "    print(\"NO\")\n"
      ],
      "metadata": {
        "colab": {
          "base_uri": "https://localhost:8080/"
        },
        "id": "Y4mQ6CvzL1FJ",
        "outputId": "68c9adb5-3405-4149-bf4f-7dbb51ec2555"
      },
      "execution_count": null,
      "outputs": [
        {
          "output_type": "stream",
          "name": "stdout",
          "text": [
            "[[[0, 6, 8], [9, 11, 13]], [[20, 22, 28], [29, 31, 36]], [[38, 50, 61], [63, 64, 66]]] YES\n"
          ]
        }
      ]
    }
  ]
}