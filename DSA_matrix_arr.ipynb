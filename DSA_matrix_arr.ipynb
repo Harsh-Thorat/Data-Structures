{
  "nbformat": 4,
  "nbformat_minor": 0,
  "metadata": {
    "colab": {
      "provenance": [],
      "authorship_tag": "ABX9TyObdpyN0kYeg8HWYWxKUbHl",
      "include_colab_link": true
    },
    "kernelspec": {
      "name": "python3",
      "display_name": "Python 3"
    },
    "language_info": {
      "name": "python"
    }
  },
  "cells": [
    {
      "cell_type": "markdown",
      "metadata": {
        "id": "view-in-github",
        "colab_type": "text"
      },
      "source": [
        "<a href=\"https://colab.research.google.com/github/Harsh-Thorat/Data-Structures/blob/main/DSA_matrix_arr.ipynb\" target=\"_parent\"><img src=\"https://colab.research.google.com/assets/colab-badge.svg\" alt=\"Open In Colab\"/></a>"
      ]
    },
    {
      "cell_type": "code",
      "execution_count": null,
      "metadata": {
        "id": "o-CLxMLBEqFd"
      },
      "outputs": [],
      "source": [
        "# 5 object array\n",
        "arr2 = [0]*5"
      ]
    },
    {
      "cell_type": "code",
      "source": [
        "print(arr2)"
      ],
      "metadata": {
        "colab": {
          "base_uri": "https://localhost:8080/"
        },
        "id": "uC36XqhSFzQq",
        "outputId": "9a706b7d-17f1-4da4-e3c0-995c9a35d8ba"
      },
      "execution_count": null,
      "outputs": [
        {
          "output_type": "stream",
          "name": "stdout",
          "text": [
            "[0, 0, 0, 0, 0]\n"
          ]
        }
      ]
    },
    {
      "cell_type": "code",
      "source": [
        "arr1 = [[1,2,3], [2,4,6], [3,5,7]]\n",
        "print(arr1)"
      ],
      "metadata": {
        "colab": {
          "base_uri": "https://localhost:8080/"
        },
        "id": "EkL_ASDUF4QF",
        "outputId": "ab068b1c-d26f-4ffd-9e5d-ef264b263659"
      },
      "execution_count": null,
      "outputs": [
        {
          "output_type": "stream",
          "name": "stdout",
          "text": [
            "[[1, 2, 3], [2, 4, 6], [3, 5, 7]]\n"
          ]
        }
      ]
    },
    {
      "cell_type": "code",
      "source": [
        "#finding a value x in a 3-D array\n",
        "# Function to search for an element in a 3-D list\n",
        "def search_in_matrix(arr, x):\n",
        "    rows, cols = len(arr), len(arr[1])\n",
        "\n",
        "    # Traverse each row and column\n",
        "    for i in range(rows):\n",
        "        for j in range(cols):\n",
        "            if arr[i][j] == x:\n",
        "                return True\n",
        "    return False\n",
        "\n",
        "# Driver code to test the function\n",
        "x = 12\n",
        "arr = [\n",
        "    [[0, 6, 8, 9, 11],\n",
        "    [20, 22, 28, 29, 31],\n",
        "    [36, 38, 50, 12, 63],\n",
        "    [64, 66, 100, 122, 128]],\n",
        "    [[0, 6, 8, 9, 11],\n",
        "    [20, 22, 28, 29, 31],\n",
        "    [36, 38, 50, 12, 63],\n",
        "    [64, 66, 100, 122, 128]],\n",
        "    [[0, 6, 8, 9, 11],\n",
        "    [20, 22, 28, 29, 31],\n",
        "    [36, 38, 50, 12, 63],\n",
        "    [64, 66, 100, 122, 128]]]\n",
        "\n",
        "\n",
        "if search_in_matrix(arr, x):\n",
        "    print(\"YES\")\n",
        "else:\n",
        "    print(\"NO\")"
      ],
      "metadata": {
        "colab": {
          "base_uri": "https://localhost:8080/"
        },
        "id": "aJ7GJ50zIv-I",
        "outputId": "a3c1e801-678b-4ac3-f43c-c86f19679534"
      },
      "execution_count": null,
      "outputs": [
        {
          "output_type": "stream",
          "name": "stdout",
          "text": [
            "NO\n"
          ]
        }
      ]
    },
    {
      "cell_type": "code",
      "source": [
        "# Function to search for an element in a 3-D list\n",
        "def search_in_3d_array(arr, x):\n",
        "    depth = len(arr)         # Number of 2D matrices\n",
        "    rows = len(arr[0])       # Number of rows in each 2D matrix\n",
        "    cols = len(arr[0][0])    # Number of columns in each row\n",
        "\n",
        "    # Traverse each depth, row, and column\n",
        "    for d in range(depth):\n",
        "        for i in range(rows):\n",
        "            for j in range(cols):\n",
        "                if arr[d][i][j] == x:\n",
        "                    return True\n",
        "    return False\n",
        "\n",
        "# Driver code to test the function\n",
        "x = 50\n",
        "arr = [\n",
        "    [\n",
        "        [0, 6, 8],\n",
        "        [9, 11, 13]\n",
        "    ],\n",
        "    [\n",
        "        [20, 22, 28],\n",
        "        [29, 31, 36]\n",
        "    ],\n",
        "    [\n",
        "        [38, 50, 61],\n",
        "        [63, 64, 66]\n",
        "    ]\n",
        "]\n",
        "\n",
        "if search_in_3d_array(arr, x):\n",
        "    print(arr, \"YES\")\n",
        "else:\n",
        "    print(\"NO\")\n"
      ],
      "metadata": {
        "colab": {
          "base_uri": "https://localhost:8080/"
        },
        "id": "Y4mQ6CvzL1FJ",
        "outputId": "6163458a-409c-4464-ad72-46145e2547ae"
      },
      "execution_count": null,
      "outputs": [
        {
          "output_type": "stream",
          "name": "stdout",
          "text": [
            "[[[0, 6, 8], [9, 11, 13]], [[20, 22, 28], [29, 31, 36]], [[38, 50, 61], [63, 64, 66]]] YES\n"
          ]
        }
      ]
    },
    {
      "cell_type": "code",
      "source": [],
      "metadata": {
        "id": "fRNMSehCNWz_"
      },
      "execution_count": null,
      "outputs": []
    },
    {
      "cell_type": "code",
      "source": [
        "# Function to search for an element in a 3-D list\n",
        "def search_in_3d_array(arr, x):\n",
        "    depth = len(arr)         # Number of 2D matrices\n",
        "    rows = len(arr[0])       # Number of rows in each 2D matrix\n",
        "    cols = len(arr[0][0])    # Number of columns in each row\n",
        "\n",
        "    # Traverse each depth, row, and column\n",
        "    for d in range(depth):\n",
        "        for i in range(rows):\n",
        "            for j in range(cols):\n",
        "                if arr[d][i][j] == x:\n",
        "                    return True\n",
        "    return False\n",
        "\n",
        "# Driver code to test the function\n",
        "x = 51\n",
        "arr = [\n",
        "    [\n",
        "        [0, 6, 8],\n",
        "        [9, 11, 13]\n",
        "    ],\n",
        "    [\n",
        "        [20, 22, 28],\n",
        "        [29, 31, 36]\n",
        "    ],\n",
        "    [\n",
        "        [38, 50, 61],\n",
        "        [63, 64, 66]\n",
        "    ]\n",
        "]\n",
        "\n",
        "if search_in_3d_array(arr, x):\n",
        "    print(arr, \"YES\")\n",
        "else:\n",
        "    print(\"NO\")\n"
      ],
      "metadata": {
        "colab": {
          "base_uri": "https://localhost:8080/"
        },
        "outputId": "f1343266-73e9-4414-f1c2-d7c9f1083922",
        "id": "LebjjkekNbnE"
      },
      "execution_count": null,
      "outputs": [
        {
          "output_type": "stream",
          "name": "stdout",
          "text": [
            "NO\n"
          ]
        }
      ]
    },
    {
      "cell_type": "code",
      "source": [
        "# lets try printing prime numbers from 1 to 100\n",
        "\n",
        "def factors(n):\n",
        "  factorlist = []\n",
        "  for i in range(1, n+1):\n",
        "    if n%i == 0:\n",
        "      factorlist.append(i)\n",
        "  return factorlist"
      ],
      "metadata": {
        "id": "MX9EuVnFvCe9"
      },
      "execution_count": 9,
      "outputs": []
    },
    {
      "cell_type": "code",
      "source": [
        "def prime(n):\n",
        "  return (factors(n) == [1, n])"
      ],
      "metadata": {
        "id": "ZhgXsUMmwtqE"
      },
      "execution_count": 10,
      "outputs": []
    },
    {
      "cell_type": "code",
      "source": [
        "primelist = []\n",
        "for i in range(1, 101):\n",
        "  if prime(i):\n",
        "    primelist.append(i)\n",
        "\n",
        "print (primelist)"
      ],
      "metadata": {
        "colab": {
          "base_uri": "https://localhost:8080/"
        },
        "id": "oGPECziRxPAh",
        "outputId": "17df4048-1435-4c61-b2ff-6b44c33dede4"
      },
      "execution_count": null,
      "outputs": [
        {
          "output_type": "stream",
          "name": "stdout",
          "text": [
            "[2, 3, 5, 7, 11, 13, 17, 19, 23, 29, 31, 37, 41, 43, 47, 53, 59, 61, 67, 71, 73, 79, 83, 89, 97]\n"
          ]
        }
      ]
    },
    {
      "cell_type": "code",
      "source": [
        "def prime(n)"
      ],
      "metadata": {
        "id": "TFLJ23SNYpZF"
      },
      "execution_count": null,
      "outputs": []
    },
    {
      "cell_type": "code",
      "source": [
        "def firstprimes(m):\n",
        "  (count, i, pl) = (0, 1, [])\n",
        "  while count < m:\n",
        "    if prime(i):\n",
        "      (count, pl) = (count + 1, pl + [i])\n",
        "    i = i + 1\n",
        "  return pl"
      ],
      "metadata": {
        "id": "tX6cXZpVWoyb"
      },
      "execution_count": 11,
      "outputs": []
    },
    {
      "cell_type": "code",
      "source": [],
      "metadata": {
        "id": "9ynbmjG-Yor-"
      },
      "execution_count": null,
      "outputs": []
    },
    {
      "cell_type": "code",
      "source": [
        "ans = firstprimes(10)\n",
        "print(ans)"
      ],
      "metadata": {
        "colab": {
          "base_uri": "https://localhost:8080/"
        },
        "id": "A3mIX1FvYcKW",
        "outputId": "eef03443-1238-4ca6-c169-cad352595c0d"
      },
      "execution_count": 12,
      "outputs": [
        {
          "output_type": "stream",
          "name": "stdout",
          "text": [
            "[2, 3, 5, 7, 11, 13, 17, 19, 23, 29]\n"
          ]
        }
      ]
    }
  ]
}